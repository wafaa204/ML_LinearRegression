{
 "cells": [
  {
   "cell_type": "code",
   "execution_count": 1,
   "id": "ffb7578c-1b5f-4aa1-84f2-8cda4ae2298b",
   "metadata": {},
   "outputs": [],
   "source": [
    "import numpy as np"
   ]
  },
  {
   "cell_type": "code",
   "execution_count": 2,
   "id": "de0d03ee-672c-448d-b577-6ee0c16b9b5a",
   "metadata": {},
   "outputs": [],
   "source": [
    "#store the x and y values in array ..\n",
    "x_arr=np.array([1,2,3,4,5])\n",
    "y_arr=np.array([2,2.8,3.6,4.5,5.1])\n",
    "\n",
    "#we will find the number of tuple (n) to use it in the law ..\n",
    "n=len(x_arr)\n",
    "\n",
    "#we will find the summation of col x ..\n",
    "sum_x=sum(x_arr)\n",
    "\n",
    "#we will find the summation of col y ..\n",
    "sum_y=sum(y_arr)"
   ]
  },
  {
   "cell_type": "code",
   "execution_count": 3,
   "id": "9eb68bbf-bef3-44cd-a58f-02e442294be4",
   "metadata": {},
   "outputs": [],
   "source": [
    "#we will find the summation of x*y ..\n",
    "#multiply the 2 array to find the summation of x*y ..\n",
    "x_in_y=x_arr*y_arr\n",
    "sum_xy=sum(x_in_y)"
   ]
  },
  {
   "cell_type": "code",
   "execution_count": 4,
   "id": "0b8d9190-cd88-44bc-a04e-9d4b880343e9",
   "metadata": {},
   "outputs": [],
   "source": [
    "#to find the summation of square of x ..\n",
    "sum_x_square=sum(x_arr**2)\n",
    "\n",
    "#to find the summation of square of y ..\n",
    "sum_y_square=sum(y_arr**2)"
   ]
  },
  {
   "cell_type": "code",
   "execution_count": 5,
   "id": "b4aee46d-17f9-4281-948d-f76acc786afe",
   "metadata": {},
   "outputs": [
    {
     "name": "stdout",
     "output_type": "stream",
     "text": [
      "The value of b= -0.014363636363636363\n",
      "\n",
      "The value of a= 3.643090909090909\n",
      "\n",
      "The equation after compensation :  y= 3.643x-0.014\n",
      "\n",
      "The value of y= 23.665727272727274\n",
      "\n",
      "The point coordinates : (6.5,23.666)\n"
     ]
    }
   ],
   "source": [
    "#now we will write the law of a and b to find it then we compensate for it in the linear equation to find y ..\n",
    "x=6.5\n",
    "\n",
    "#we divide the b_law for 2 parts numerator and denominator to make it easy to understand ..\n",
    "numerator_of_b=n*sum_xy-sum_x*sum_y\n",
    "denominator_of_b=n*sum_x_square-sum_x_square**2\n",
    "\n",
    "#now we write the law of b and collect the parts that have been divided ..\n",
    "b=numerator_of_b/denominator_of_b\n",
    "\n",
    "#now we write the a_law ..\n",
    "a=(sum_y/n) - ((b*sum_x)/n)\n",
    "\n",
    "#the equation below used for find the final answer for y ..\n",
    "y=a*x+b\n",
    "\n",
    "print(\"The value of b=\",b)\n",
    "print(\"\\nThe value of a=\",a)\n",
    "print(\"\\nThe equation after compensation :\",f\" y= {a:.3f}x{b:.3f}\")\n",
    "print(\"\\nThe value of y=\",y)\n",
    "\n",
    "#if you want to round the value of y you can round it for 3 floating point or more ..\n",
    "print(f\"\\nThe point coordinates : ({x},{y:.3f})\")"
   ]
  },
  {
   "cell_type": "code",
   "execution_count": null,
   "id": "9944a2e8-c961-4a38-a159-46840a2a879d",
   "metadata": {},
   "outputs": [],
   "source": []
  }
 ],
 "metadata": {
  "kernelspec": {
   "display_name": "Python 3 (ipykernel)",
   "language": "python",
   "name": "python3"
  },
  "language_info": {
   "codemirror_mode": {
    "name": "ipython",
    "version": 3
   },
   "file_extension": ".py",
   "mimetype": "text/x-python",
   "name": "python",
   "nbconvert_exporter": "python",
   "pygments_lexer": "ipython3",
   "version": "3.12.4"
  }
 },
 "nbformat": 4,
 "nbformat_minor": 5
}
